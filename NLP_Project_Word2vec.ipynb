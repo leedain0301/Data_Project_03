{
  "cells": [
    {
      "cell_type": "markdown",
      "metadata": {
        "id": "view-in-github",
        "colab_type": "text"
      },
      "source": [
        "<a href=\"https://colab.research.google.com/github/leedain0301/leedain0301-Data_Project_03/blob/main/NLP_Project_Word2vec.ipynb\" target=\"_parent\"><img src=\"https://colab.research.google.com/assets/colab-badge.svg\" alt=\"Open In Colab\"/></a>"
      ]
    },
    {
      "cell_type": "code",
      "source": [
        "from google.colab import drive\n",
        "drive.mount('/content/drive')"
      ],
      "metadata": {
        "colab": {
          "base_uri": "https://localhost:8080/"
        },
        "id": "HPzI6qpeoQs_",
        "outputId": "6503c613-e700-4be0-c8a6-970ed220119a"
      },
      "execution_count": null,
      "outputs": [
        {
          "output_type": "stream",
          "name": "stdout",
          "text": [
            "Drive already mounted at /content/drive; to attempt to forcibly remount, call drive.mount(\"/content/drive\", force_remount=True).\n"
          ]
        }
      ]
    },
    {
      "cell_type": "code",
      "metadata": {
        "id": "SVNYVYiX48RR"
      },
      "source": [
        "import warnings\n",
        "warnings.filterwarnings('ignore')"
      ],
      "execution_count": null,
      "outputs": []
    },
    {
      "cell_type": "code",
      "metadata": {
        "id": "tdHoq19Y48RU",
        "outputId": "633c9159-336b-425f-d17b-1835db91a641",
        "colab": {
          "base_uri": "https://localhost:8080/"
        }
      },
      "source": [
        "import pandas as pd\n",
        "\n",
        "train = pd.read_csv('/content/drive/MyDrive/02.Colab Notebooks/labeledTrainData.tsv', delimiter='\\t', quoting=3)\n",
        "test = pd.read_csv('/content/drive/MyDrive/02.Colab Notebooks/testData.tsv', delimiter='\\t', quoting=3)\n",
        "\n",
        "unlabeled_train = pd.read_csv('/content/drive/MyDrive/02.Colab Notebooks/unlabeledTrainData.tsv', \n",
        "                              header=0, delimiter='\\t', quoting=3)\n",
        "\n",
        "print(train.shape)\n",
        "print(test.shape)\n",
        "print(unlabeled_train.shape)\n",
        "\n",
        "print(train['review'].size)\n",
        "print(test['review'].size)\n",
        "print(unlabeled_train['review'].size)"
      ],
      "execution_count": null,
      "outputs": [
        {
          "output_type": "stream",
          "name": "stdout",
          "text": [
            "(25000, 3)\n",
            "(25000, 2)\n",
            "(50000, 2)\n",
            "25000\n",
            "25000\n",
            "50000\n"
          ]
        }
      ]
    },
    {
      "cell_type": "code",
      "metadata": {
        "id": "DhfoGIvY48RY",
        "outputId": "75ea5761-9aad-4d92-a4f0-f30a01ff118c",
        "colab": {
          "base_uri": "https://localhost:8080/",
          "height": 206
        }
      },
      "source": [
        "train.head()"
      ],
      "execution_count": null,
      "outputs": [
        {
          "output_type": "execute_result",
          "data": {
            "text/plain": [
              "         id  sentiment                                             review\n",
              "0  \"5814_8\"          1  \"With all this stuff going down at the moment ...\n",
              "1  \"2381_9\"          1  \"\\\"The Classic War of the Worlds\\\" by Timothy ...\n",
              "2  \"7759_3\"          0  \"The film starts with a manager (Nicholas Bell...\n",
              "3  \"3630_4\"          0  \"It must be assumed that those who praised thi...\n",
              "4  \"9495_8\"          1  \"Superbly trashy and wondrously unpretentious ..."
            ],
            "text/html": [
              "\n",
              "  <div id=\"df-bd50f91d-d702-4df9-8e4b-a90fcbcb473b\">\n",
              "    <div class=\"colab-df-container\">\n",
              "      <div>\n",
              "<style scoped>\n",
              "    .dataframe tbody tr th:only-of-type {\n",
              "        vertical-align: middle;\n",
              "    }\n",
              "\n",
              "    .dataframe tbody tr th {\n",
              "        vertical-align: top;\n",
              "    }\n",
              "\n",
              "    .dataframe thead th {\n",
              "        text-align: right;\n",
              "    }\n",
              "</style>\n",
              "<table border=\"1\" class=\"dataframe\">\n",
              "  <thead>\n",
              "    <tr style=\"text-align: right;\">\n",
              "      <th></th>\n",
              "      <th>id</th>\n",
              "      <th>sentiment</th>\n",
              "      <th>review</th>\n",
              "    </tr>\n",
              "  </thead>\n",
              "  <tbody>\n",
              "    <tr>\n",
              "      <th>0</th>\n",
              "      <td>\"5814_8\"</td>\n",
              "      <td>1</td>\n",
              "      <td>\"With all this stuff going down at the moment ...</td>\n",
              "    </tr>\n",
              "    <tr>\n",
              "      <th>1</th>\n",
              "      <td>\"2381_9\"</td>\n",
              "      <td>1</td>\n",
              "      <td>\"\\\"The Classic War of the Worlds\\\" by Timothy ...</td>\n",
              "    </tr>\n",
              "    <tr>\n",
              "      <th>2</th>\n",
              "      <td>\"7759_3\"</td>\n",
              "      <td>0</td>\n",
              "      <td>\"The film starts with a manager (Nicholas Bell...</td>\n",
              "    </tr>\n",
              "    <tr>\n",
              "      <th>3</th>\n",
              "      <td>\"3630_4\"</td>\n",
              "      <td>0</td>\n",
              "      <td>\"It must be assumed that those who praised thi...</td>\n",
              "    </tr>\n",
              "    <tr>\n",
              "      <th>4</th>\n",
              "      <td>\"9495_8\"</td>\n",
              "      <td>1</td>\n",
              "      <td>\"Superbly trashy and wondrously unpretentious ...</td>\n",
              "    </tr>\n",
              "  </tbody>\n",
              "</table>\n",
              "</div>\n",
              "      <button class=\"colab-df-convert\" onclick=\"convertToInteractive('df-bd50f91d-d702-4df9-8e4b-a90fcbcb473b')\"\n",
              "              title=\"Convert this dataframe to an interactive table.\"\n",
              "              style=\"display:none;\">\n",
              "        \n",
              "  <svg xmlns=\"http://www.w3.org/2000/svg\" height=\"24px\"viewBox=\"0 0 24 24\"\n",
              "       width=\"24px\">\n",
              "    <path d=\"M0 0h24v24H0V0z\" fill=\"none\"/>\n",
              "    <path d=\"M18.56 5.44l.94 2.06.94-2.06 2.06-.94-2.06-.94-.94-2.06-.94 2.06-2.06.94zm-11 1L8.5 8.5l.94-2.06 2.06-.94-2.06-.94L8.5 2.5l-.94 2.06-2.06.94zm10 10l.94 2.06.94-2.06 2.06-.94-2.06-.94-.94-2.06-.94 2.06-2.06.94z\"/><path d=\"M17.41 7.96l-1.37-1.37c-.4-.4-.92-.59-1.43-.59-.52 0-1.04.2-1.43.59L10.3 9.45l-7.72 7.72c-.78.78-.78 2.05 0 2.83L4 21.41c.39.39.9.59 1.41.59.51 0 1.02-.2 1.41-.59l7.78-7.78 2.81-2.81c.8-.78.8-2.07 0-2.86zM5.41 20L4 18.59l7.72-7.72 1.47 1.35L5.41 20z\"/>\n",
              "  </svg>\n",
              "      </button>\n",
              "      \n",
              "  <style>\n",
              "    .colab-df-container {\n",
              "      display:flex;\n",
              "      flex-wrap:wrap;\n",
              "      gap: 12px;\n",
              "    }\n",
              "\n",
              "    .colab-df-convert {\n",
              "      background-color: #E8F0FE;\n",
              "      border: none;\n",
              "      border-radius: 50%;\n",
              "      cursor: pointer;\n",
              "      display: none;\n",
              "      fill: #1967D2;\n",
              "      height: 32px;\n",
              "      padding: 0 0 0 0;\n",
              "      width: 32px;\n",
              "    }\n",
              "\n",
              "    .colab-df-convert:hover {\n",
              "      background-color: #E2EBFA;\n",
              "      box-shadow: 0px 1px 2px rgba(60, 64, 67, 0.3), 0px 1px 3px 1px rgba(60, 64, 67, 0.15);\n",
              "      fill: #174EA6;\n",
              "    }\n",
              "\n",
              "    [theme=dark] .colab-df-convert {\n",
              "      background-color: #3B4455;\n",
              "      fill: #D2E3FC;\n",
              "    }\n",
              "\n",
              "    [theme=dark] .colab-df-convert:hover {\n",
              "      background-color: #434B5C;\n",
              "      box-shadow: 0px 1px 3px 1px rgba(0, 0, 0, 0.15);\n",
              "      filter: drop-shadow(0px 1px 2px rgba(0, 0, 0, 0.3));\n",
              "      fill: #FFFFFF;\n",
              "    }\n",
              "  </style>\n",
              "\n",
              "      <script>\n",
              "        const buttonEl =\n",
              "          document.querySelector('#df-bd50f91d-d702-4df9-8e4b-a90fcbcb473b button.colab-df-convert');\n",
              "        buttonEl.style.display =\n",
              "          google.colab.kernel.accessAllowed ? 'block' : 'none';\n",
              "\n",
              "        async function convertToInteractive(key) {\n",
              "          const element = document.querySelector('#df-bd50f91d-d702-4df9-8e4b-a90fcbcb473b');\n",
              "          const dataTable =\n",
              "            await google.colab.kernel.invokeFunction('convertToInteractive',\n",
              "                                                     [key], {});\n",
              "          if (!dataTable) return;\n",
              "\n",
              "          const docLinkHtml = 'Like what you see? Visit the ' +\n",
              "            '<a target=\"_blank\" href=https://colab.research.google.com/notebooks/data_table.ipynb>data table notebook</a>'\n",
              "            + ' to learn more about interactive tables.';\n",
              "          element.innerHTML = '';\n",
              "          dataTable['output_type'] = 'display_data';\n",
              "          await google.colab.output.renderOutput(dataTable, element);\n",
              "          const docLink = document.createElement('div');\n",
              "          docLink.innerHTML = docLinkHtml;\n",
              "          element.appendChild(docLink);\n",
              "        }\n",
              "      </script>\n",
              "    </div>\n",
              "  </div>\n",
              "  "
            ]
          },
          "metadata": {},
          "execution_count": 21
        }
      ]
    },
    {
      "cell_type": "code",
      "metadata": {
        "id": "OOnGgtkL48Ra",
        "outputId": "fc13600d-832a-4eb2-f107-a5f9db0a46b6",
        "colab": {
          "base_uri": "https://localhost:8080/",
          "height": 206
        }
      },
      "source": [
        "test.head()"
      ],
      "execution_count": null,
      "outputs": [
        {
          "output_type": "execute_result",
          "data": {
            "text/plain": [
              "           id                                             review\n",
              "0  \"12311_10\"  \"Naturally in a film who's main themes are of ...\n",
              "1    \"8348_2\"  \"This movie is a disaster within a disaster fi...\n",
              "2    \"5828_4\"  \"All in all, this is a movie for kids. We saw ...\n",
              "3    \"7186_2\"  \"Afraid of the Dark left me with the impressio...\n",
              "4   \"12128_7\"  \"A very accurate depiction of small time mob l..."
            ],
            "text/html": [
              "\n",
              "  <div id=\"df-802d9961-3ae2-4178-9e87-43001918e8f8\">\n",
              "    <div class=\"colab-df-container\">\n",
              "      <div>\n",
              "<style scoped>\n",
              "    .dataframe tbody tr th:only-of-type {\n",
              "        vertical-align: middle;\n",
              "    }\n",
              "\n",
              "    .dataframe tbody tr th {\n",
              "        vertical-align: top;\n",
              "    }\n",
              "\n",
              "    .dataframe thead th {\n",
              "        text-align: right;\n",
              "    }\n",
              "</style>\n",
              "<table border=\"1\" class=\"dataframe\">\n",
              "  <thead>\n",
              "    <tr style=\"text-align: right;\">\n",
              "      <th></th>\n",
              "      <th>id</th>\n",
              "      <th>review</th>\n",
              "    </tr>\n",
              "  </thead>\n",
              "  <tbody>\n",
              "    <tr>\n",
              "      <th>0</th>\n",
              "      <td>\"12311_10\"</td>\n",
              "      <td>\"Naturally in a film who's main themes are of ...</td>\n",
              "    </tr>\n",
              "    <tr>\n",
              "      <th>1</th>\n",
              "      <td>\"8348_2\"</td>\n",
              "      <td>\"This movie is a disaster within a disaster fi...</td>\n",
              "    </tr>\n",
              "    <tr>\n",
              "      <th>2</th>\n",
              "      <td>\"5828_4\"</td>\n",
              "      <td>\"All in all, this is a movie for kids. We saw ...</td>\n",
              "    </tr>\n",
              "    <tr>\n",
              "      <th>3</th>\n",
              "      <td>\"7186_2\"</td>\n",
              "      <td>\"Afraid of the Dark left me with the impressio...</td>\n",
              "    </tr>\n",
              "    <tr>\n",
              "      <th>4</th>\n",
              "      <td>\"12128_7\"</td>\n",
              "      <td>\"A very accurate depiction of small time mob l...</td>\n",
              "    </tr>\n",
              "  </tbody>\n",
              "</table>\n",
              "</div>\n",
              "      <button class=\"colab-df-convert\" onclick=\"convertToInteractive('df-802d9961-3ae2-4178-9e87-43001918e8f8')\"\n",
              "              title=\"Convert this dataframe to an interactive table.\"\n",
              "              style=\"display:none;\">\n",
              "        \n",
              "  <svg xmlns=\"http://www.w3.org/2000/svg\" height=\"24px\"viewBox=\"0 0 24 24\"\n",
              "       width=\"24px\">\n",
              "    <path d=\"M0 0h24v24H0V0z\" fill=\"none\"/>\n",
              "    <path d=\"M18.56 5.44l.94 2.06.94-2.06 2.06-.94-2.06-.94-.94-2.06-.94 2.06-2.06.94zm-11 1L8.5 8.5l.94-2.06 2.06-.94-2.06-.94L8.5 2.5l-.94 2.06-2.06.94zm10 10l.94 2.06.94-2.06 2.06-.94-2.06-.94-.94-2.06-.94 2.06-2.06.94z\"/><path d=\"M17.41 7.96l-1.37-1.37c-.4-.4-.92-.59-1.43-.59-.52 0-1.04.2-1.43.59L10.3 9.45l-7.72 7.72c-.78.78-.78 2.05 0 2.83L4 21.41c.39.39.9.59 1.41.59.51 0 1.02-.2 1.41-.59l7.78-7.78 2.81-2.81c.8-.78.8-2.07 0-2.86zM5.41 20L4 18.59l7.72-7.72 1.47 1.35L5.41 20z\"/>\n",
              "  </svg>\n",
              "      </button>\n",
              "      \n",
              "  <style>\n",
              "    .colab-df-container {\n",
              "      display:flex;\n",
              "      flex-wrap:wrap;\n",
              "      gap: 12px;\n",
              "    }\n",
              "\n",
              "    .colab-df-convert {\n",
              "      background-color: #E8F0FE;\n",
              "      border: none;\n",
              "      border-radius: 50%;\n",
              "      cursor: pointer;\n",
              "      display: none;\n",
              "      fill: #1967D2;\n",
              "      height: 32px;\n",
              "      padding: 0 0 0 0;\n",
              "      width: 32px;\n",
              "    }\n",
              "\n",
              "    .colab-df-convert:hover {\n",
              "      background-color: #E2EBFA;\n",
              "      box-shadow: 0px 1px 2px rgba(60, 64, 67, 0.3), 0px 1px 3px 1px rgba(60, 64, 67, 0.15);\n",
              "      fill: #174EA6;\n",
              "    }\n",
              "\n",
              "    [theme=dark] .colab-df-convert {\n",
              "      background-color: #3B4455;\n",
              "      fill: #D2E3FC;\n",
              "    }\n",
              "\n",
              "    [theme=dark] .colab-df-convert:hover {\n",
              "      background-color: #434B5C;\n",
              "      box-shadow: 0px 1px 3px 1px rgba(0, 0, 0, 0.15);\n",
              "      filter: drop-shadow(0px 1px 2px rgba(0, 0, 0, 0.3));\n",
              "      fill: #FFFFFF;\n",
              "    }\n",
              "  </style>\n",
              "\n",
              "      <script>\n",
              "        const buttonEl =\n",
              "          document.querySelector('#df-802d9961-3ae2-4178-9e87-43001918e8f8 button.colab-df-convert');\n",
              "        buttonEl.style.display =\n",
              "          google.colab.kernel.accessAllowed ? 'block' : 'none';\n",
              "\n",
              "        async function convertToInteractive(key) {\n",
              "          const element = document.querySelector('#df-802d9961-3ae2-4178-9e87-43001918e8f8');\n",
              "          const dataTable =\n",
              "            await google.colab.kernel.invokeFunction('convertToInteractive',\n",
              "                                                     [key], {});\n",
              "          if (!dataTable) return;\n",
              "\n",
              "          const docLinkHtml = 'Like what you see? Visit the ' +\n",
              "            '<a target=\"_blank\" href=https://colab.research.google.com/notebooks/data_table.ipynb>data table notebook</a>'\n",
              "            + ' to learn more about interactive tables.';\n",
              "          element.innerHTML = '';\n",
              "          dataTable['output_type'] = 'display_data';\n",
              "          await google.colab.output.renderOutput(dataTable, element);\n",
              "          const docLink = document.createElement('div');\n",
              "          docLink.innerHTML = docLinkHtml;\n",
              "          element.appendChild(docLink);\n",
              "        }\n",
              "      </script>\n",
              "    </div>\n",
              "  </div>\n",
              "  "
            ]
          },
          "metadata": {},
          "execution_count": 22
        }
      ]
    },
    {
      "cell_type": "code",
      "source": [
        "import re\n",
        "\n",
        "from bs4 import BeautifulSoup\n",
        "from nltk.corpus import stopwords\n",
        "from nltk.stem.snowball import SnowballStemmer\n",
        "\n",
        "from multiprocessing import Pool"
      ],
      "metadata": {
        "id": "XFtIJNJsXex5"
      },
      "execution_count": null,
      "outputs": []
    },
    {
      "cell_type": "code",
      "source": [
        "def review_to_wordlist(review, remove_stopwords=False):\n",
        "        review_text = BeautifulSoup(review, \"html.parser\").get_text()\n",
        "        review_text = re.sub('[^a-zA-Z]', ' ', review_text)\n",
        "        words = review_text.lower().split()\n",
        "        if remove_stopwords:\n",
        "            stops = set(stopwords.words('english'))\n",
        "            words = [w for w in words if not w in stops]\n",
        "        stemmer = SnowballStemmer('english')\n",
        "        words = [stemmer.stem(w) for w in words]\n",
        "        return(words)"
      ],
      "metadata": {
        "id": "rTD7qtJJXV7l"
      },
      "execution_count": null,
      "outputs": []
    },
    {
      "cell_type": "code",
      "source": [
        "def review_to_join_words( review, remove_stopwords=False ):\n",
        "      words = review_to_wordlist(\\\n",
        "          review, remove_stopwords=False)\n",
        "      # 불용어 유지\n",
        "      join_words = ' '.join(words)\n",
        "      return join_words"
      ],
      "metadata": {
        "id": "CMSsbK3fXX4n"
      },
      "execution_count": null,
      "outputs": []
    },
    {
      "cell_type": "code",
      "source": [
        "def review_to_sentences( review, remove_stopwords=False ):\n",
        "    tokenizer = nltk.data.load('tokenizers/punkt/english.pickle')\n",
        "    raw_sentences = tokenizer.tokenize(review.strip())\n",
        "    sentences = []\n",
        "    for raw_sentence in raw_sentences:\n",
        "        if len(raw_sentence) > 0:\n",
        "            sentences.append(\\\n",
        "                review_to_wordlist(\\\n",
        "                raw_sentence, remove_stopwords))\n",
        "    return sentences"
      ],
      "metadata": {
        "id": "tg355MUmXZCO"
      },
      "execution_count": null,
      "outputs": []
    },
    {
      "cell_type": "code",
      "source": [
        "def _apply_df(args):\n",
        "    df, func, kwargs = args\n",
        "    return df.apply(func, **kwargs)"
      ],
      "metadata": {
        "id": "qsAqBCgqXalP"
      },
      "execution_count": null,
      "outputs": []
    },
    {
      "cell_type": "code",
      "source": [
        "def apply_by_multiprocessing(df, func, **kwargs):\n",
        "    # 키워드 항목 중 workers 파라메터를 꺼냄\n",
        "    workers = kwargs.pop('workers')\n",
        "    # 위에서 가져온 workers 수로 프로세스 풀을 정의\n",
        "    pool = Pool(processes=workers)\n",
        "    # 실행할 함수와 데이터프레임을 워커의 수 만큼 나눠 작업\n",
        "    result = pool.map(_apply_df, [(d, func, kwargs)\n",
        "            for d in np.array_split(df, workers)])\n",
        "    pool.close()\n",
        "    # 작업 결과를 합쳐서 반환\n",
        "    return pd.concat(result)"
      ],
      "metadata": {
        "id": "FrOqodwnXbxR"
      },
      "execution_count": null,
      "outputs": []
    },
    {
      "cell_type": "code",
      "metadata": {
        "id": "b9Pha23N48Re",
        "outputId": "8ca5208e-0b35-400f-ecde-76bc78d31c29",
        "colab": {
          "base_uri": "https://localhost:8080/"
        }
      },
      "source": [
        "review_to_wordlist(train['review'][0])[:10]"
      ],
      "execution_count": null,
      "outputs": [
        {
          "output_type": "execute_result",
          "data": {
            "text/plain": [
              "['with', 'all', 'this', 'stuff', 'go', 'down', 'at', 'the', 'moment', 'with']"
            ]
          },
          "metadata": {},
          "execution_count": 29
        }
      ]
    },
    {
      "cell_type": "code",
      "metadata": {
        "id": "7aeyqMjV7Q75",
        "outputId": "b437348a-1775-472b-bbff-43c523a69127",
        "colab": {
          "base_uri": "https://localhost:8080/"
        }
      },
      "source": [
        "import nltk\n",
        "nltk.download('punkt')"
      ],
      "execution_count": null,
      "outputs": [
        {
          "output_type": "stream",
          "name": "stderr",
          "text": [
            "[nltk_data] Downloading package punkt to /root/nltk_data...\n",
            "[nltk_data]   Package punkt is already up-to-date!\n"
          ]
        },
        {
          "output_type": "execute_result",
          "data": {
            "text/plain": [
              "True"
            ]
          },
          "metadata": {},
          "execution_count": 30
        }
      ]
    },
    {
      "cell_type": "code",
      "metadata": {
        "id": "cDa5yj3L48Rh"
      },
      "source": [
        "sentences = []\n",
        "for review in train[\"review\"]:\n",
        "    sentences += review_to_sentences(\n",
        "        review, remove_stopwords=False)"
      ],
      "execution_count": null,
      "outputs": []
    },
    {
      "cell_type": "code",
      "metadata": {
        "id": "iY4uVOON48Rj"
      },
      "source": [
        "for review in unlabeled_train[\"review\"]:\n",
        "    sentences += review_to_sentences(\n",
        "        review, remove_stopwords=False)"
      ],
      "execution_count": null,
      "outputs": []
    },
    {
      "cell_type": "code",
      "metadata": {
        "id": "b5ZEbIZz48Rl",
        "outputId": "b4aa654f-edcc-4171-dabc-0637a33df883",
        "colab": {
          "base_uri": "https://localhost:8080/"
        }
      },
      "source": [
        "len(sentences)"
      ],
      "execution_count": null,
      "outputs": [
        {
          "output_type": "execute_result",
          "data": {
            "text/plain": [
              "794002"
            ]
          },
          "metadata": {},
          "execution_count": 33
        }
      ]
    },
    {
      "cell_type": "code",
      "metadata": {
        "id": "5li59ue448Rn",
        "outputId": "b1a3fdde-bd2f-47c5-99cc-fbd5e2ebdff5",
        "colab": {
          "base_uri": "https://localhost:8080/"
        }
      },
      "source": [
        "sentences[0][:10]"
      ],
      "execution_count": null,
      "outputs": [
        {
          "output_type": "execute_result",
          "data": {
            "text/plain": [
              "['with', 'all', 'this', 'stuff', 'go', 'down', 'at', 'the', 'moment', 'with']"
            ]
          },
          "metadata": {},
          "execution_count": 34
        }
      ]
    },
    {
      "cell_type": "code",
      "source": [
        "sentences[4][:10]"
      ],
      "metadata": {
        "colab": {
          "base_uri": "https://localhost:8080/"
        },
        "id": "twnXumSDjE65",
        "outputId": "a0ef4b48-a786-461d-f951-bd8a5bea6bea"
      },
      "execution_count": null,
      "outputs": [
        {
          "output_type": "execute_result",
          "data": {
            "text/plain": [
              "['some', 'may', 'call', 'mj', 'an', 'egotist', 'for', 'consent', 'to', 'the']"
            ]
          },
          "metadata": {},
          "execution_count": 39
        }
      ]
    },
    {
      "cell_type": "code",
      "metadata": {
        "id": "ckxkI_-a48Rq",
        "outputId": "a52af5b0-97b0-4579-ccfb-de83b640e212",
        "colab": {
          "base_uri": "https://localhost:8080/"
        }
      },
      "source": [
        "sentences[5][:10]"
      ],
      "execution_count": null,
      "outputs": [
        {
          "output_type": "execute_result",
          "data": {
            "text/plain": [
              "['whi', 'he', 'want', 'mj', 'dead', 'so', 'bad', 'is', 'beyond', 'me']"
            ]
          },
          "metadata": {},
          "execution_count": 36
        }
      ]
    },
    {
      "cell_type": "code",
      "source": [
        "sentences[6][:10]"
      ],
      "metadata": {
        "colab": {
          "base_uri": "https://localhost:8080/"
        },
        "id": "hnYsoIsxi_x4",
        "outputId": "203e74e4-5bf4-49da-934f-9820d0f1330c"
      },
      "execution_count": null,
      "outputs": [
        {
          "output_type": "execute_result",
          "data": {
            "text/plain": [
              "['becaus', 'mj', 'overheard', 'his', 'plan']"
            ]
          },
          "metadata": {},
          "execution_count": 37
        }
      ]
    },
    {
      "cell_type": "code",
      "source": [
        "sentences[7][:10]"
      ],
      "metadata": {
        "colab": {
          "base_uri": "https://localhost:8080/"
        },
        "id": "1OkqUFl4jBl2",
        "outputId": "16c3c21f-95bc-41ed-b302-05c9f9fbfb4a"
      },
      "execution_count": null,
      "outputs": [
        {
          "output_type": "execute_result",
          "data": {
            "text/plain": [
              "['nah', 'joe', 'pesci', 's', 'charact', 'rant', 'that', 'he', 'want', 'peopl']"
            ]
          },
          "metadata": {},
          "execution_count": 38
        }
      ]
    },
    {
      "cell_type": "code",
      "metadata": {
        "id": "Yi50_yd548Rt"
      },
      "source": [
        "import logging\n",
        "logging.basicConfig(\n",
        "    format='%(asctime)s : %(levelname)s : %(message)s', \n",
        "    level=logging.INFO)"
      ],
      "execution_count": null,
      "outputs": []
    },
    {
      "cell_type": "code",
      "metadata": {
        "id": "U7NeqLvj48Rv",
        "outputId": "3da85ba0-4670-4d29-8e8a-42b17961c272",
        "colab": {
          "base_uri": "https://localhost:8080/"
        }
      },
      "source": [
        "num_features = 300\n",
        "min_word_count = 40 \n",
        "num_workers = 4 \n",
        "context = 10 \n",
        "downsampling = 1e-3\n",
        "\n",
        "from gensim.models import word2vec\n",
        "\n",
        "model = word2vec.Word2Vec(sentences, \n",
        "                          workers=num_workers, \n",
        "                          size=num_features, \n",
        "                          min_count=min_word_count,\n",
        "                          window=context,\n",
        "                          sample=downsampling)\n",
        "model"
      ],
      "execution_count": null,
      "outputs": [
        {
          "output_type": "execute_result",
          "data": {
            "text/plain": [
              "<gensim.models.word2vec.Word2Vec at 0x7f7808d9f8b0>"
            ]
          },
          "metadata": {},
          "execution_count": 40
        }
      ]
    },
    {
      "cell_type": "code",
      "metadata": {
        "id": "paLXzv9p48Rx"
      },
      "source": [
        "model.init_sims(replace=True)\n",
        "\n",
        "model_name = '300features_40minwords_10text'\n",
        "model.save(model_name)"
      ],
      "execution_count": null,
      "outputs": []
    },
    {
      "cell_type": "code",
      "metadata": {
        "id": "W49gDdw248R0",
        "outputId": "2acc1216-983f-43ea-ef06-aef05105413c",
        "colab": {
          "base_uri": "https://localhost:8080/",
          "height": 35
        }
      },
      "source": [
        "model.wv.doesnt_match('man woman child kitchen'.split())"
      ],
      "execution_count": null,
      "outputs": [
        {
          "output_type": "execute_result",
          "data": {
            "text/plain": [
              "'kitchen'"
            ],
            "application/vnd.google.colaboratory.intrinsic+json": {
              "type": "string"
            }
          },
          "metadata": {},
          "execution_count": 42
        }
      ]
    },
    {
      "cell_type": "code",
      "metadata": {
        "id": "BUT4hytK48R2",
        "outputId": "56207be7-fa9d-4a67-f795-f88bb8fa76f7",
        "colab": {
          "base_uri": "https://localhost:8080/",
          "height": 54
        }
      },
      "source": [
        "model.wv.doesnt_match(\"france england germany berlin\".split())"
      ],
      "execution_count": null,
      "outputs": [
        {
          "output_type": "stream",
          "name": "stderr",
          "text": [
            "WARNING:gensim.models.keyedvectors:vectors for words {'germany', 'france'} are not present in the model, ignoring these words\n"
          ]
        },
        {
          "output_type": "execute_result",
          "data": {
            "text/plain": [
              "'berlin'"
            ],
            "application/vnd.google.colaboratory.intrinsic+json": {
              "type": "string"
            }
          },
          "metadata": {},
          "execution_count": 43
        }
      ]
    },
    {
      "cell_type": "code",
      "metadata": {
        "id": "8NGreCbG48R4",
        "outputId": "a36e0c98-5c3a-4ad8-d0fe-45accbfb5036",
        "colab": {
          "base_uri": "https://localhost:8080/"
        }
      },
      "source": [
        "model.wv.most_similar(\"man\")"
      ],
      "execution_count": null,
      "outputs": [
        {
          "output_type": "execute_result",
          "data": {
            "text/plain": [
              "[('woman', 0.643549919128418),\n",
              " ('millionair', 0.5272088646888733),\n",
              " ('ladi', 0.5077311396598816),\n",
              " ('businessman', 0.5062713027000427),\n",
              " ('lad', 0.5012030601501465),\n",
              " ('farmer', 0.4746062159538269),\n",
              " ('policeman', 0.4664461016654968),\n",
              " ('loner', 0.4662756621837616),\n",
              " ('men', 0.46148011088371277),\n",
              " ('priest', 0.4425860047340393)]"
            ]
          },
          "metadata": {},
          "execution_count": 44
        }
      ]
    },
    {
      "cell_type": "code",
      "metadata": {
        "id": "DuuXRL0D48R6",
        "outputId": "f8801655-dc31-4c89-abb2-6e029ebce4a7",
        "colab": {
          "base_uri": "https://localhost:8080/"
        }
      },
      "source": [
        "model.wv.most_similar(\"queen\")"
      ],
      "execution_count": null,
      "outputs": [
        {
          "output_type": "execute_result",
          "data": {
            "text/plain": [
              "[('princess', 0.6178750395774841),\n",
              " ('latifah', 0.5705339312553406),\n",
              " ('regina', 0.5643806457519531),\n",
              " ('victoria', 0.5557170510292053),\n",
              " ('goddess', 0.553458571434021),\n",
              " ('anita', 0.5357435345649719),\n",
              " ('countess', 0.5340474843978882),\n",
              " ('seductress', 0.5325914621353149),\n",
              " ('maid', 0.5289620161056519),\n",
              " ('mistress', 0.525242030620575)]"
            ]
          },
          "metadata": {},
          "execution_count": 45
        }
      ]
    },
    {
      "cell_type": "code",
      "metadata": {
        "scrolled": true,
        "id": "AXFlHXyi48R-",
        "outputId": "bb43f688-8b08-46ba-97fa-ec0126376e89",
        "colab": {
          "base_uri": "https://localhost:8080/"
        }
      },
      "source": [
        "model.wv.most_similar(\"film\")"
      ],
      "execution_count": null,
      "outputs": [
        {
          "output_type": "execute_result",
          "data": {
            "text/plain": [
              "[('movi', 0.856643557548523),\n",
              " ('flick', 0.6101890802383423),\n",
              " ('pictur', 0.5556603670120239),\n",
              " ('documentari', 0.5441884398460388),\n",
              " ('cinema', 0.506055474281311),\n",
              " ('it', 0.49722737073898315),\n",
              " ('masterpiec', 0.4899998903274536),\n",
              " ('genr', 0.4849259853363037),\n",
              " ('effort', 0.4733966290950775),\n",
              " ('sequel', 0.4594869613647461)]"
            ]
          },
          "metadata": {},
          "execution_count": 46
        }
      ]
    },
    {
      "cell_type": "code",
      "metadata": {
        "id": "LRrOJbDa48SB",
        "outputId": "d91d8516-0cb7-4c69-bdde-08bbb93d64ca",
        "colab": {
          "base_uri": "https://localhost:8080/"
        }
      },
      "source": [
        "model.wv.most_similar(\"happi\") "
      ],
      "execution_count": null,
      "outputs": [
        {
          "output_type": "execute_result",
          "data": {
            "text/plain": [
              "[('unhappi', 0.4490591883659363),\n",
              " ('satisfi', 0.4166378378868103),\n",
              " ('sad', 0.40899547934532166),\n",
              " ('bitter', 0.4036322832107544),\n",
              " ('afraid', 0.38993608951568604),\n",
              " ('glad', 0.3765805959701538),\n",
              " ('proud', 0.36671167612075806),\n",
              " ('joy', 0.36606454849243164),\n",
              " ('comfort', 0.36387354135513306),\n",
              " ('upset', 0.35754674673080444)]"
            ]
          },
          "metadata": {},
          "execution_count": 47
        }
      ]
    },
    {
      "cell_type": "markdown",
      "metadata": {
        "id": "i6ZkV02z48SD"
      },
      "source": [
        "### Word2Vec으로 벡터화 한 단어를 t-SNE 를 통해 시각화"
      ]
    },
    {
      "cell_type": "code",
      "metadata": {
        "id": "c16Np1SY48SE",
        "outputId": "c3c09c16-2de9-409c-e54d-1c7762936518",
        "colab": {
          "base_uri": "https://localhost:8080/"
        }
      },
      "source": [
        "from sklearn.manifold import TSNE\n",
        "import matplotlib as mpl\n",
        "import matplotlib.pyplot as plt\n",
        "import gensim \n",
        "import gensim.models as g\n",
        "\n",
        "mpl.rcParams['axes.unicode_minus'] = False\n",
        "\n",
        "model_name = '300features_40minwords_10text'\n",
        "model = g.Doc2Vec.load(model_name)\n",
        "\n",
        "vocab = list(model.wv.vocab)\n",
        "X = model[vocab]\n",
        "\n",
        "print(len(X))\n",
        "print(X[0][:10])\n",
        "tsne = TSNE(n_components=2)\n",
        "\n",
        "X_tsne = tsne.fit_transform(X[:100,:])"
      ],
      "execution_count": null,
      "outputs": [
        {
          "output_type": "stream",
          "name": "stdout",
          "text": [
            "11986\n",
            "[ 0.00467708  0.07879636  0.08629572  0.0572859   0.02377285 -0.00144495\n",
            "  0.07784202 -0.00238662 -0.05066631  0.08978955]\n"
          ]
        }
      ]
    },
    {
      "cell_type": "code",
      "metadata": {
        "id": "nIDhfkpc48SG",
        "outputId": "2e0536cd-0ea3-4bd0-fec9-1a23a3947f65",
        "colab": {
          "base_uri": "https://localhost:8080/"
        }
      },
      "source": [
        "df = pd.DataFrame(X_tsne, index=vocab[:100], columns=['x', 'y'])\n",
        "df.shape"
      ],
      "execution_count": null,
      "outputs": [
        {
          "output_type": "execute_result",
          "data": {
            "text/plain": [
              "(100, 2)"
            ]
          },
          "metadata": {},
          "execution_count": 49
        }
      ]
    },
    {
      "cell_type": "code",
      "metadata": {
        "id": "gJGkz6Km48SI",
        "outputId": "a1f62e3c-c725-48dd-9e11-c41dc0bdbdc5",
        "colab": {
          "base_uri": "https://localhost:8080/",
          "height": 363
        }
      },
      "source": [
        "df.head(10)"
      ],
      "execution_count": null,
      "outputs": [
        {
          "output_type": "execute_result",
          "data": {
            "text/plain": [
              "               x         y\n",
              "with   -6.767395 -0.936524\n",
              "all    -2.954873  3.307956\n",
              "this   -0.448278  2.152205\n",
              "stuff  -1.976269 -2.315531\n",
              "go      2.641775 -3.570008\n",
              "down   -8.914538 -3.372394\n",
              "at     -6.996994 -2.592021\n",
              "the    -4.466446  3.702896\n",
              "moment -1.916742  7.656163\n",
              "mj     -4.539456 -8.393744"
            ],
            "text/html": [
              "\n",
              "  <div id=\"df-fe3d2874-b3e8-49bf-94bf-33c0b14b9efe\">\n",
              "    <div class=\"colab-df-container\">\n",
              "      <div>\n",
              "<style scoped>\n",
              "    .dataframe tbody tr th:only-of-type {\n",
              "        vertical-align: middle;\n",
              "    }\n",
              "\n",
              "    .dataframe tbody tr th {\n",
              "        vertical-align: top;\n",
              "    }\n",
              "\n",
              "    .dataframe thead th {\n",
              "        text-align: right;\n",
              "    }\n",
              "</style>\n",
              "<table border=\"1\" class=\"dataframe\">\n",
              "  <thead>\n",
              "    <tr style=\"text-align: right;\">\n",
              "      <th></th>\n",
              "      <th>x</th>\n",
              "      <th>y</th>\n",
              "    </tr>\n",
              "  </thead>\n",
              "  <tbody>\n",
              "    <tr>\n",
              "      <th>with</th>\n",
              "      <td>-6.767395</td>\n",
              "      <td>-0.936524</td>\n",
              "    </tr>\n",
              "    <tr>\n",
              "      <th>all</th>\n",
              "      <td>-2.954873</td>\n",
              "      <td>3.307956</td>\n",
              "    </tr>\n",
              "    <tr>\n",
              "      <th>this</th>\n",
              "      <td>-0.448278</td>\n",
              "      <td>2.152205</td>\n",
              "    </tr>\n",
              "    <tr>\n",
              "      <th>stuff</th>\n",
              "      <td>-1.976269</td>\n",
              "      <td>-2.315531</td>\n",
              "    </tr>\n",
              "    <tr>\n",
              "      <th>go</th>\n",
              "      <td>2.641775</td>\n",
              "      <td>-3.570008</td>\n",
              "    </tr>\n",
              "    <tr>\n",
              "      <th>down</th>\n",
              "      <td>-8.914538</td>\n",
              "      <td>-3.372394</td>\n",
              "    </tr>\n",
              "    <tr>\n",
              "      <th>at</th>\n",
              "      <td>-6.996994</td>\n",
              "      <td>-2.592021</td>\n",
              "    </tr>\n",
              "    <tr>\n",
              "      <th>the</th>\n",
              "      <td>-4.466446</td>\n",
              "      <td>3.702896</td>\n",
              "    </tr>\n",
              "    <tr>\n",
              "      <th>moment</th>\n",
              "      <td>-1.916742</td>\n",
              "      <td>7.656163</td>\n",
              "    </tr>\n",
              "    <tr>\n",
              "      <th>mj</th>\n",
              "      <td>-4.539456</td>\n",
              "      <td>-8.393744</td>\n",
              "    </tr>\n",
              "  </tbody>\n",
              "</table>\n",
              "</div>\n",
              "      <button class=\"colab-df-convert\" onclick=\"convertToInteractive('df-fe3d2874-b3e8-49bf-94bf-33c0b14b9efe')\"\n",
              "              title=\"Convert this dataframe to an interactive table.\"\n",
              "              style=\"display:none;\">\n",
              "        \n",
              "  <svg xmlns=\"http://www.w3.org/2000/svg\" height=\"24px\"viewBox=\"0 0 24 24\"\n",
              "       width=\"24px\">\n",
              "    <path d=\"M0 0h24v24H0V0z\" fill=\"none\"/>\n",
              "    <path d=\"M18.56 5.44l.94 2.06.94-2.06 2.06-.94-2.06-.94-.94-2.06-.94 2.06-2.06.94zm-11 1L8.5 8.5l.94-2.06 2.06-.94-2.06-.94L8.5 2.5l-.94 2.06-2.06.94zm10 10l.94 2.06.94-2.06 2.06-.94-2.06-.94-.94-2.06-.94 2.06-2.06.94z\"/><path d=\"M17.41 7.96l-1.37-1.37c-.4-.4-.92-.59-1.43-.59-.52 0-1.04.2-1.43.59L10.3 9.45l-7.72 7.72c-.78.78-.78 2.05 0 2.83L4 21.41c.39.39.9.59 1.41.59.51 0 1.02-.2 1.41-.59l7.78-7.78 2.81-2.81c.8-.78.8-2.07 0-2.86zM5.41 20L4 18.59l7.72-7.72 1.47 1.35L5.41 20z\"/>\n",
              "  </svg>\n",
              "      </button>\n",
              "      \n",
              "  <style>\n",
              "    .colab-df-container {\n",
              "      display:flex;\n",
              "      flex-wrap:wrap;\n",
              "      gap: 12px;\n",
              "    }\n",
              "\n",
              "    .colab-df-convert {\n",
              "      background-color: #E8F0FE;\n",
              "      border: none;\n",
              "      border-radius: 50%;\n",
              "      cursor: pointer;\n",
              "      display: none;\n",
              "      fill: #1967D2;\n",
              "      height: 32px;\n",
              "      padding: 0 0 0 0;\n",
              "      width: 32px;\n",
              "    }\n",
              "\n",
              "    .colab-df-convert:hover {\n",
              "      background-color: #E2EBFA;\n",
              "      box-shadow: 0px 1px 2px rgba(60, 64, 67, 0.3), 0px 1px 3px 1px rgba(60, 64, 67, 0.15);\n",
              "      fill: #174EA6;\n",
              "    }\n",
              "\n",
              "    [theme=dark] .colab-df-convert {\n",
              "      background-color: #3B4455;\n",
              "      fill: #D2E3FC;\n",
              "    }\n",
              "\n",
              "    [theme=dark] .colab-df-convert:hover {\n",
              "      background-color: #434B5C;\n",
              "      box-shadow: 0px 1px 3px 1px rgba(0, 0, 0, 0.15);\n",
              "      filter: drop-shadow(0px 1px 2px rgba(0, 0, 0, 0.3));\n",
              "      fill: #FFFFFF;\n",
              "    }\n",
              "  </style>\n",
              "\n",
              "      <script>\n",
              "        const buttonEl =\n",
              "          document.querySelector('#df-fe3d2874-b3e8-49bf-94bf-33c0b14b9efe button.colab-df-convert');\n",
              "        buttonEl.style.display =\n",
              "          google.colab.kernel.accessAllowed ? 'block' : 'none';\n",
              "\n",
              "        async function convertToInteractive(key) {\n",
              "          const element = document.querySelector('#df-fe3d2874-b3e8-49bf-94bf-33c0b14b9efe');\n",
              "          const dataTable =\n",
              "            await google.colab.kernel.invokeFunction('convertToInteractive',\n",
              "                                                     [key], {});\n",
              "          if (!dataTable) return;\n",
              "\n",
              "          const docLinkHtml = 'Like what you see? Visit the ' +\n",
              "            '<a target=\"_blank\" href=https://colab.research.google.com/notebooks/data_table.ipynb>data table notebook</a>'\n",
              "            + ' to learn more about interactive tables.';\n",
              "          element.innerHTML = '';\n",
              "          dataTable['output_type'] = 'display_data';\n",
              "          await google.colab.output.renderOutput(dataTable, element);\n",
              "          const docLink = document.createElement('div');\n",
              "          docLink.innerHTML = docLinkHtml;\n",
              "          element.appendChild(docLink);\n",
              "        }\n",
              "      </script>\n",
              "    </div>\n",
              "  </div>\n",
              "  "
            ]
          },
          "metadata": {},
          "execution_count": 50
        }
      ]
    },
    {
      "cell_type": "code",
      "metadata": {
        "id": "ckazjIm748SL",
        "outputId": "95ab2b0f-334c-481e-c383-534d1f1f0209",
        "colab": {
          "base_uri": "https://localhost:8080/",
          "height": 820
        }
      },
      "source": [
        "fig = plt.figure()\n",
        "fig.set_size_inches(40, 20)\n",
        "ax = fig.add_subplot(1, 1, 1)\n",
        "\n",
        "ax.scatter(df['x'], df['y'])\n",
        "\n",
        "for word, pos in df.iterrows():\n",
        "    ax.annotate(word, pos, fontsize=30)\n",
        "plt.show()"
      ],
      "execution_count": null,
      "outputs": [
        {
          "output_type": "display_data",
          "data": {
            "text/plain": [
              "<Figure size 2880x1440 with 1 Axes>"
            ],
            "image/png": "[encoded data removed]"
          },
          "metadata": {
            "needs_background": "light"
          }
        }
      ]
    },
    {
      "cell_type": "code",
      "metadata": {
        "id": "6N1U2OGZ48SN"
      },
      "source": [
        "import numpy as np\n",
        "\n",
        "def makeFeatureVec(words, model, num_features):\n",
        "\n",
        "    featureVec = np.zeros((num_features,),dtype=\"float32\")\n",
        "    nwords = 0.\n",
        "    index2word_set = set(model.wv.index2word)\n",
        "\n",
        "    for word in words:\n",
        "        if word in index2word_set:\n",
        "            nwords = nwords + 1.\n",
        "            featureVec = np.add(featureVec,model[word])\n",
        " \n",
        "    featureVec = np.divide(featureVec,nwords)\n",
        "    return featureVec"
      ],
      "execution_count": null,
      "outputs": []
    },
    {
      "cell_type": "code",
      "metadata": {
        "id": "DxLuRTzI48SP"
      },
      "source": [
        "def getAvgFeatureVecs(reviews, model, num_features):\n",
        "\n",
        "    counter = 0.\n",
        "\n",
        "    reviewFeatureVecs = np.zeros(\n",
        "        (len(reviews),num_features),dtype=\"float32\")\n",
        "    \n",
        "    for review in reviews:\n",
        "        if counter%1000. == 0.:\n",
        "            print(\"Review %d of %d\" % (counter, len(reviews)))\n",
        "        reviewFeatureVecs[int(counter)] = makeFeatureVec(review, model, \\\n",
        "           num_features)\n",
        "        counter = counter + 1.\n",
        "    return reviewFeatureVecs"
      ],
      "execution_count": null,
      "outputs": []
    },
    {
      "cell_type": "code",
      "metadata": {
        "id": "CJT3nbrj48SR"
      },
      "source": [
        "def getCleanReviews(reviews):\n",
        "    clean_reviews = []\n",
        "    clean_reviews = apply_by_multiprocessing(\\\n",
        "        reviews[\"review\"], review_to_wordlist,\\\n",
        "        workers=4)\n",
        "    return clean_reviews"
      ],
      "execution_count": null,
      "outputs": []
    },
    {
      "cell_type": "code",
      "metadata": {
        "id": "BdGz6D6h48SS",
        "outputId": "d13190fb-e890-4da0-fb16-9863a3ea5e35",
        "colab": {
          "base_uri": "https://localhost:8080/"
        }
      },
      "source": [
        "%time trainDataVecs = getAvgFeatureVecs(\\\n",
        "    getCleanReviews(train), model, num_features ) "
      ],
      "execution_count": null,
      "outputs": [
        {
          "output_type": "stream",
          "name": "stdout",
          "text": [
            "Review 0 of 25000\n",
            "Review 1000 of 25000\n",
            "Review 2000 of 25000\n",
            "Review 3000 of 25000\n",
            "Review 4000 of 25000\n",
            "Review 5000 of 25000\n",
            "Review 6000 of 25000\n",
            "Review 7000 of 25000\n",
            "Review 8000 of 25000\n",
            "Review 9000 of 25000\n",
            "Review 10000 of 25000\n",
            "Review 11000 of 25000\n",
            "Review 12000 of 25000\n",
            "Review 13000 of 25000\n",
            "Review 14000 of 25000\n",
            "Review 15000 of 25000\n",
            "Review 16000 of 25000\n",
            "Review 17000 of 25000\n",
            "Review 18000 of 25000\n",
            "Review 19000 of 25000\n",
            "Review 20000 of 25000\n",
            "Review 21000 of 25000\n",
            "Review 22000 of 25000\n",
            "Review 23000 of 25000\n",
            "Review 24000 of 25000\n",
            "CPU times: user 1min 7s, sys: 1.46 s, total: 1min 9s\n",
            "Wall time: 2min 40s\n"
          ]
        }
      ]
    },
    {
      "cell_type": "code",
      "metadata": {
        "id": "54OhIXNN48SY",
        "outputId": "c74a716a-e073-4b46-b4a3-58f57b12180d",
        "colab": {
          "base_uri": "https://localhost:8080/"
        }
      },
      "source": [
        "%time testDataVecs = getAvgFeatureVecs(\\\n",
        "        getCleanReviews(test), model, num_features )"
      ],
      "execution_count": null,
      "outputs": [
        {
          "output_type": "stream",
          "name": "stdout",
          "text": [
            "Review 0 of 25000\n",
            "Review 1000 of 25000\n",
            "Review 2000 of 25000\n",
            "Review 3000 of 25000\n",
            "Review 4000 of 25000\n",
            "Review 5000 of 25000\n",
            "Review 6000 of 25000\n",
            "Review 7000 of 25000\n",
            "Review 8000 of 25000\n",
            "Review 9000 of 25000\n",
            "Review 10000 of 25000\n",
            "Review 11000 of 25000\n",
            "Review 12000 of 25000\n",
            "Review 13000 of 25000\n",
            "Review 14000 of 25000\n",
            "Review 15000 of 25000\n",
            "Review 16000 of 25000\n",
            "Review 17000 of 25000\n",
            "Review 18000 of 25000\n",
            "Review 19000 of 25000\n",
            "Review 20000 of 25000\n",
            "Review 21000 of 25000\n",
            "Review 22000 of 25000\n",
            "Review 23000 of 25000\n",
            "Review 24000 of 25000\n",
            "CPU times: user 1min 6s, sys: 1.09 s, total: 1min 7s\n",
            "Wall time: 2min 29s\n"
          ]
        }
      ]
    },
    {
      "cell_type": "code",
      "metadata": {
        "id": "2KRhQeMn48Sb"
      },
      "source": [
        "from sklearn.ensemble import RandomForestClassifier\n",
        "\n",
        "forest = RandomForestClassifier(\n",
        "    n_estimators = 100, n_jobs = -1, random_state=2018)"
      ],
      "execution_count": null,
      "outputs": []
    },
    {
      "cell_type": "code",
      "metadata": {
        "id": "_fTvDcNh48Se",
        "outputId": "3d6c5977-04d8-4b7c-de3c-69579929f8fa",
        "colab": {
          "base_uri": "https://localhost:8080/"
        }
      },
      "source": [
        "%time forest = forest.fit( trainDataVecs, train[\"sentiment\"] )"
      ],
      "execution_count": null,
      "outputs": [
        {
          "output_type": "stream",
          "name": "stdout",
          "text": [
            "CPU times: user 1min 14s, sys: 140 ms, total: 1min 15s\n",
            "Wall time: 47.1 s\n"
          ]
        }
      ]
    },
    {
      "cell_type": "code",
      "metadata": {
        "id": "FaGbcYjd48Sg",
        "outputId": "67f723a0-766e-4e5a-defb-817adbdcf1e0",
        "colab": {
          "base_uri": "https://localhost:8080/"
        }
      },
      "source": [
        "from sklearn.model_selection import cross_val_score\n",
        "%time score = np.mean(cross_val_score(\\\n",
        "    forest, trainDataVecs, \\\n",
        "    train['sentiment'], cv=10, scoring='roc_auc'))"
      ],
      "execution_count": null,
      "outputs": [
        {
          "output_type": "stream",
          "name": "stdout",
          "text": [
            "CPU times: user 8.35 s, sys: 1.36 s, total: 9.71 s\n",
            "Wall time: 7min 13s\n"
          ]
        }
      ]
    },
    {
      "cell_type": "code",
      "metadata": {
        "id": "DAprEAiC48Sj",
        "outputId": "a64de041-8c27-47e4-f3f6-7ebfce97283a",
        "colab": {
          "base_uri": "https://localhost:8080/"
        }
      },
      "source": [
        "score"
      ],
      "execution_count": null,
      "outputs": [
        {
          "output_type": "execute_result",
          "data": {
            "text/plain": [
              "0.9083336"
            ]
          },
          "metadata": {},
          "execution_count": 68
        }
      ]
    },
    {
      "cell_type": "code",
      "metadata": {
        "id": "vtf5B4kR48Sm"
      },
      "source": [
        "result = forest.predict( testDataVecs )"
      ],
      "execution_count": null,
      "outputs": []
    },
    {
      "cell_type": "code",
      "metadata": {
        "id": "2tRTRvkd48Sn"
      },
      "source": [
        "output = pd.DataFrame( data={\"id\":test[\"id\"], \"sentiment\":result} )\n",
        "output.to_csv('Word2Vec_AverageVectors_{0:.5f}.csv'.format(score), \n",
        "              index=False, quoting=3 )"
      ],
      "execution_count": null,
      "outputs": []
    },
    {
      "cell_type": "markdown",
      "metadata": {
        "id": "r0ssB7Om48Sq"
      },
      "source": [
        "* 300features_40minwords_10text 일 때 0.90709436799999987\n",
        "* 300features_50minwords_20text 일 때 0.86815798399999999"
      ]
    },
    {
      "cell_type": "code",
      "metadata": {
        "id": "SUZs5SHY48Sq",
        "outputId": "ee8734f4-3ecc-4c14-d6bc-1ebe8dbf127b",
        "colab": {
          "base_uri": "https://localhost:8080/"
        }
      },
      "source": [
        "output_sentiment = output['sentiment'].value_counts()\n",
        "print(output_sentiment[0] - output_sentiment[1])\n",
        "output_sentiment"
      ],
      "execution_count": null,
      "outputs": [
        {
          "output_type": "stream",
          "name": "stdout",
          "text": [
            "-130\n"
          ]
        },
        {
          "output_type": "execute_result",
          "data": {
            "text/plain": [
              "1    12565\n",
              "0    12435\n",
              "Name: sentiment, dtype: int64"
            ]
          },
          "metadata": {},
          "execution_count": 71
        }
      ]
    },
    {
      "cell_type": "code",
      "metadata": {
        "id": "doGYDdp448St",
        "outputId": "5f1a59e7-e440-4fd0-e7b3-0defa9c8abfb",
        "colab": {
          "base_uri": "https://localhost:8080/",
          "height": 352
        }
      },
      "source": [
        "import seaborn as sns \n",
        "%matplotlib inline\n",
        "\n",
        "fig, axes = plt.subplots(ncols=2)\n",
        "fig.set_size_inches(12,5)\n",
        "sns.countplot(train['sentiment'], ax=axes[0])\n",
        "sns.countplot(output['sentiment'], ax=axes[1])"
      ],
      "execution_count": null,
      "outputs": [
        {
          "output_type": "execute_result",
          "data": {
            "text/plain": [
              "<AxesSubplot:xlabel='sentiment', ylabel='count'>"
            ]
          },
          "metadata": {},
          "execution_count": 72
        },
        {
          "output_type": "display_data",
          "data": {
            "text/plain": [
              "<Figure size 864x360 with 2 Axes>"
            ],
            "image/png": "[encoded data removed]"
          },
          "metadata": {
            "needs_background": "light"
          }
        }
      ]
    },
    {
      "cell_type": "code",
      "metadata": {
        "id": "oBVyrz_S48Sv",
        "outputId": "c25e0f71-d1d4-43f8-cc10-71bef9c9a3aa",
        "colab": {
          "base_uri": "https://localhost:8080/"
        }
      },
      "source": [
        "544/578"
      ],
      "execution_count": null,
      "outputs": [
        {
          "output_type": "execute_result",
          "data": {
            "text/plain": [
              "0.9411764705882353"
            ]
          },
          "metadata": {},
          "execution_count": 73
        }
      ]
    }
  ],
  "metadata": {
    "kernelspec": {
      "display_name": "Python 3",
      "language": "python",
      "name": "python3"
    },
    "language_info": {
      "codemirror_mode": {
        "name": "ipython",
        "version": 3
      },
      "file_extension": ".py",
      "mimetype": "text/x-python",
      "name": "python",
      "nbconvert_exporter": "python",
      "pygments_lexer": "ipython3",
      "version": "3.6.1"
    },
    "colab": {
      "provenance": [],
      "include_colab_link": true
    }
  },
  "nbformat": 4,
  "nbformat_minor": 0
}